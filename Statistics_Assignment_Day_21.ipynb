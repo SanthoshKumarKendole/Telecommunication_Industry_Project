{
  "cells": [
    {
      "cell_type": "markdown",
      "metadata": {
        "id": "QvtD0SxEOPGe"
      },
      "source": [
        "<a id='1'></a><center> <h3 style=\"background-color:orange; color:white\" ><br>Telecommunication Industry Project<br></h3>"
      ]
    },
    {
      "cell_type": "markdown",
      "metadata": {
        "id": "_pzTIrVbOcFF"
      },
      "source": [
        "# Introduction\n",
        "This Jupyter notebook is part of your learning experience in the study of applied statistics.\n",
        "\n",
        "You will work with a data set that contains mobile phone prices and their specifications.\n",
        "\n",
        "**Dataset Columns Information**\n",
        "\n",
        "PID = a unique identifier for the phone model\n",
        "\n",
        "Blue = whether the phone has bluetooth support or not\n",
        "\n",
        "Wi_Fi = whether the phone has wifi support or not\n",
        "\n",
        "Tch_Scr = whether the phone has touch screen support or not\n",
        "\n",
        "Ext_Mem = whether the phone has external memory support or not\n",
        "\n",
        "Px_h = number of pixels in the vertical axis of the phone\n",
        "\n",
        "Px_w = number of pixels in the horizontal axis of the phone\n",
        "\n",
        "Scr_h = height of the screen of the phone in centimetres (cm)\n",
        "\n",
        "Scr_w = width of the screen of the phone in centimetres (cm)\n",
        "\n",
        "Int_Mem = internal memory of the phone measured in megabytes (MB)\n",
        "\n",
        "Bty_Pwr = maximum energy stored by the phone's battery measured in \n",
        "milli-Ampere-hours (mAh)\n",
        "\n",
        "PC = resolution of the primary camera measued in megapixels (MP)\n",
        "\n",
        "FC = resolution of the front camera measued in megapixels (MP)\n",
        "\n",
        "RAM = random access memory available in the phone measured in gigabytes (GB)\n",
        "\n",
        "Depth = depth of the mobile phone measured in centimetres (cm)\n",
        "\n",
        "Weight = weight of the mobile phone measured in grams (g)\n",
        "\n",
        "Price = selling price of the mobile phone in rupees\n"
      ]
    },
    {
      "cell_type": "code",
      "execution_count": null,
      "metadata": {
        "id": "wEXybtFON854"
      },
      "outputs": [],
      "source": []
    },
    {
      "cell_type": "markdown",
      "metadata": {
        "id": "YCLhIkwFO4Tj"
      },
      "source": [
        "## Task 1 - Load and study the data"
      ]
    },
    {
      "cell_type": "markdown",
      "metadata": {
        "id": "CBMdPgPUO89Y"
      },
      "source": [
        "Import the libraries that will be used in this notebook"
      ]
    },
    {
      "cell_type": "code",
      "execution_count": 3,
      "metadata": {
        "id": "z9ZS2Tw2N857"
      },
      "outputs": [],
      "source": [
        "# Load \"numpy\" and \"pandas\" for manipulating numbers and data frames\n",
        "# Load \"matplotlib.pyplot\" and \"seaborn\" for data visualisation\n",
        "\n",
        "import pandas as pd\n",
        "import numpy as np\n",
        "import seaborn as sb\n",
        "import matplotlib.pyplot as pt"
      ]
    },
    {
      "cell_type": "markdown",
      "metadata": {
        "id": "7rdvm8PDPCgM"
      },
      "source": [
        "Load the csv file as pandas dataframe. "
      ]
    },
    {
      "cell_type": "code",
      "execution_count": 4,
      "metadata": {
        "id": "7p5Rg_AkN858"
      },
      "outputs": [],
      "source": [
        "# Read in the \"Dataset\" file as a Pandas Data Frame\n",
        "\n",
        "data=pd.read_csv(\"C:/Users/KENDOLESANTHOSHKUMAR/Downloads/Mobile_Phones.csv\")"
      ]
    },
    {
      "cell_type": "code",
      "execution_count": 5,
      "metadata": {
        "id": "WdfT3N-iN859"
      },
      "outputs": [
        {
          "data": {
            "text/html": [
              "<div>\n",
              "<style scoped>\n",
              "    .dataframe tbody tr th:only-of-type {\n",
              "        vertical-align: middle;\n",
              "    }\n",
              "\n",
              "    .dataframe tbody tr th {\n",
              "        vertical-align: top;\n",
              "    }\n",
              "\n",
              "    .dataframe thead th {\n",
              "        text-align: right;\n",
              "    }\n",
              "</style>\n",
              "<table border=\"1\" class=\"dataframe\">\n",
              "  <thead>\n",
              "    <tr style=\"text-align: right;\">\n",
              "      <th></th>\n",
              "      <th>PID</th>\n",
              "      <th>Blue</th>\n",
              "      <th>Wi_Fi</th>\n",
              "      <th>Tch_Scr</th>\n",
              "      <th>Ext_Mem</th>\n",
              "      <th>Px_h</th>\n",
              "      <th>Px_w</th>\n",
              "      <th>Scr_h</th>\n",
              "      <th>Scr_w</th>\n",
              "      <th>PC</th>\n",
              "      <th>FC</th>\n",
              "      <th>Int_Mem</th>\n",
              "      <th>Bty_Pwr</th>\n",
              "      <th>RAM</th>\n",
              "      <th>Depth</th>\n",
              "      <th>Weight</th>\n",
              "      <th>Price</th>\n",
              "    </tr>\n",
              "  </thead>\n",
              "  <tbody>\n",
              "    <tr>\n",
              "      <th>0</th>\n",
              "      <td>AAB346A</td>\n",
              "      <td>yes</td>\n",
              "      <td>yes</td>\n",
              "      <td>no</td>\n",
              "      <td>no</td>\n",
              "      <td>780</td>\n",
              "      <td>460</td>\n",
              "      <td>3</td>\n",
              "      <td>1</td>\n",
              "      <td>2</td>\n",
              "      <td>2</td>\n",
              "      <td>8</td>\n",
              "      <td>2800</td>\n",
              "      <td>2</td>\n",
              "      <td>7</td>\n",
              "      <td>320</td>\n",
              "      <td>3297</td>\n",
              "    </tr>\n",
              "    <tr>\n",
              "      <th>1</th>\n",
              "      <td>AAC347I</td>\n",
              "      <td>yes</td>\n",
              "      <td>yes</td>\n",
              "      <td>no</td>\n",
              "      <td>no</td>\n",
              "      <td>780</td>\n",
              "      <td>560</td>\n",
              "      <td>2</td>\n",
              "      <td>1</td>\n",
              "      <td>4</td>\n",
              "      <td>2</td>\n",
              "      <td>8</td>\n",
              "      <td>3000</td>\n",
              "      <td>2</td>\n",
              "      <td>7</td>\n",
              "      <td>280</td>\n",
              "      <td>4500</td>\n",
              "    </tr>\n",
              "    <tr>\n",
              "      <th>2</th>\n",
              "      <td>BAB657J</td>\n",
              "      <td>no</td>\n",
              "      <td>yes</td>\n",
              "      <td>no</td>\n",
              "      <td>no</td>\n",
              "      <td>840</td>\n",
              "      <td>720</td>\n",
              "      <td>2</td>\n",
              "      <td>1</td>\n",
              "      <td>4</td>\n",
              "      <td>2</td>\n",
              "      <td>8</td>\n",
              "      <td>3300</td>\n",
              "      <td>2</td>\n",
              "      <td>7</td>\n",
              "      <td>400</td>\n",
              "      <td>4898</td>\n",
              "    </tr>\n",
              "    <tr>\n",
              "      <th>3</th>\n",
              "      <td>BBD456K</td>\n",
              "      <td>no</td>\n",
              "      <td>yes</td>\n",
              "      <td>yes</td>\n",
              "      <td>no</td>\n",
              "      <td>1280</td>\n",
              "      <td>1120</td>\n",
              "      <td>5</td>\n",
              "      <td>3</td>\n",
              "      <td>6</td>\n",
              "      <td>2</td>\n",
              "      <td>32</td>\n",
              "      <td>3000</td>\n",
              "      <td>2</td>\n",
              "      <td>3</td>\n",
              "      <td>300</td>\n",
              "      <td>6900</td>\n",
              "    </tr>\n",
              "    <tr>\n",
              "      <th>4</th>\n",
              "      <td>CCP761U</td>\n",
              "      <td>no</td>\n",
              "      <td>yes</td>\n",
              "      <td>yes</td>\n",
              "      <td>no</td>\n",
              "      <td>1280</td>\n",
              "      <td>1080</td>\n",
              "      <td>4</td>\n",
              "      <td>3</td>\n",
              "      <td>6</td>\n",
              "      <td>2</td>\n",
              "      <td>16</td>\n",
              "      <td>3000</td>\n",
              "      <td>2</td>\n",
              "      <td>3</td>\n",
              "      <td>210</td>\n",
              "      <td>5600</td>\n",
              "    </tr>\n",
              "  </tbody>\n",
              "</table>\n",
              "</div>"
            ],
            "text/plain": [
              "       PID Blue Wi_Fi Tch_Scr Ext_Mem  Px_h  Px_w  Scr_h  Scr_w  PC  FC  \\\n",
              "0  AAB346A  yes   yes      no      no   780   460      3      1   2   2   \n",
              "1  AAC347I  yes   yes      no      no   780   560      2      1   4   2   \n",
              "2  BAB657J   no   yes      no      no   840   720      2      1   4   2   \n",
              "3  BBD456K   no   yes     yes      no  1280  1120      5      3   6   2   \n",
              "4  CCP761U   no   yes     yes      no  1280  1080      4      3   6   2   \n",
              "\n",
              "   Int_Mem  Bty_Pwr  RAM  Depth  Weight  Price  \n",
              "0        8     2800    2      7     320   3297  \n",
              "1        8     3000    2      7     280   4500  \n",
              "2        8     3300    2      7     400   4898  \n",
              "3       32     3000    2      3     300   6900  \n",
              "4       16     3000    2      3     210   5600  "
            ]
          },
          "execution_count": 5,
          "metadata": {},
          "output_type": "execute_result"
        }
      ],
      "source": [
        "# Take a brief look at the data\n",
        "data.head()"
      ]
    },
    {
      "cell_type": "code",
      "execution_count": 6,
      "metadata": {
        "id": "0jdoVTnIN85_"
      },
      "outputs": [
        {
          "data": {
            "text/plain": [
              "(50, 17)"
            ]
          },
          "execution_count": 6,
          "metadata": {},
          "output_type": "execute_result"
        }
      ],
      "source": [
        "# Get the dimensions of the dataframe\n",
        "\n",
        "data.shape"
      ]
    },
    {
      "cell_type": "code",
      "execution_count": 7,
      "metadata": {
        "id": "y28qZAzdN86B"
      },
      "outputs": [
        {
          "data": {
            "text/plain": [
              "RangeIndex(start=0, stop=50, step=1)"
            ]
          },
          "execution_count": 7,
          "metadata": {},
          "output_type": "execute_result"
        }
      ],
      "source": [
        "# Get the row names of the dataframe\n",
        "\n",
        "data.index"
      ]
    },
    {
      "cell_type": "code",
      "execution_count": 8,
      "metadata": {
        "id": "u3wUbIm7N86C"
      },
      "outputs": [
        {
          "data": {
            "text/plain": [
              "Index(['PID', 'Blue', 'Wi_Fi', 'Tch_Scr', 'Ext_Mem', 'Px_h', 'Px_w', 'Scr_h',\n",
              "       'Scr_w', 'PC', 'FC', 'Int_Mem', 'Bty_Pwr', 'RAM', 'Depth', 'Weight',\n",
              "       'Price'],\n",
              "      dtype='object')"
            ]
          },
          "execution_count": 8,
          "metadata": {},
          "output_type": "execute_result"
        }
      ],
      "source": [
        "# Get the column names of the dataframe\n",
        "\n",
        "data.columns"
      ]
    },
    {
      "cell_type": "code",
      "execution_count": 9,
      "metadata": {
        "id": "zoJdOWbKN86D"
      },
      "outputs": [
        {
          "name": "stdout",
          "output_type": "stream",
          "text": [
            "<class 'pandas.core.frame.DataFrame'>\n",
            "RangeIndex: 50 entries, 0 to 49\n",
            "Data columns (total 17 columns):\n",
            " #   Column   Non-Null Count  Dtype \n",
            "---  ------   --------------  ----- \n",
            " 0   PID      50 non-null     object\n",
            " 1   Blue     50 non-null     object\n",
            " 2   Wi_Fi    50 non-null     object\n",
            " 3   Tch_Scr  50 non-null     object\n",
            " 4   Ext_Mem  50 non-null     object\n",
            " 5   Px_h     50 non-null     int64 \n",
            " 6   Px_w     50 non-null     int64 \n",
            " 7   Scr_h    50 non-null     int64 \n",
            " 8   Scr_w    50 non-null     int64 \n",
            " 9   PC       50 non-null     int64 \n",
            " 10  FC       50 non-null     int64 \n",
            " 11  Int_Mem  50 non-null     int64 \n",
            " 12  Bty_Pwr  50 non-null     int64 \n",
            " 13  RAM      50 non-null     int64 \n",
            " 14  Depth    50 non-null     int64 \n",
            " 15  Weight   50 non-null     int64 \n",
            " 16  Price    50 non-null     int64 \n",
            "dtypes: int64(12), object(5)\n",
            "memory usage: 6.8+ KB\n"
          ]
        }
      ],
      "source": [
        "# Look at basic information about the dataframe\n",
        "\n",
        "data.info()"
      ]
    },
    {
      "cell_type": "markdown",
      "metadata": {
        "id": "Yp1sfFKKQQLR"
      },
      "source": [
        "Observations:\n",
        "\n",
        "There are 50 phones in the data set.\n",
        "\n",
        "There are 17 features in the data set including the \"PID\" feature which is used as the row index labels.\n",
        "\n",
        "There are no missing values in the data set."
      ]
    },
    {
      "cell_type": "code",
      "execution_count": 7,
      "metadata": {
        "id": "F7O4y4kyN86F"
      },
      "outputs": [],
      "source": []
    },
    {
      "cell_type": "markdown",
      "metadata": {
        "id": "K6wSkK61E57v"
      },
      "source": [
        "<center>Let's try some logical operators to filter the data.<center>"
      ]
    },
    {
      "cell_type": "markdown",
      "metadata": {
        "id": "Fjx3ajuFFN5H"
      },
      "source": [
        "![](https://th.bing.com/th/id/R.0592084daa6518e4fae97f47217ec69e?rik=vNqmiaTVSSo54w&riu=http%3a%2f%2f2.bp.blogspot.com%2f-ujABms6N-Cg%2fTyYwShdTjnI%2fAAAAAAAAAAs%2fktPbHdifidc%2fs1600%2fLogical%2bOperators.PNG&ehk=ww1gl1HB2PcZwPQNHWRUvcQ631Q3mzyHSxL9G4zUKT4%3d&risl=&pid=ImgRaw&r=0,width=700,height=400)"
      ]
    },
    {
      "cell_type": "markdown",
      "metadata": {
        "id": "zBarC8WVQZG7"
      },
      "source": [
        "## Task 2 - Obtain the logical conditions for the features \"Blue\", \"Wi_Fi\", \"Tch_Scr\" and \"Ext_Mem\""
      ]
    },
    {
      "cell_type": "code",
      "execution_count": 14,
      "metadata": {
        "id": "RAV76P19N86G"
      },
      "outputs": [
        {
          "data": {
            "text/html": [
              "<div>\n",
              "<style scoped>\n",
              "    .dataframe tbody tr th:only-of-type {\n",
              "        vertical-align: middle;\n",
              "    }\n",
              "\n",
              "    .dataframe tbody tr th {\n",
              "        vertical-align: top;\n",
              "    }\n",
              "\n",
              "    .dataframe thead th {\n",
              "        text-align: right;\n",
              "    }\n",
              "</style>\n",
              "<table border=\"1\" class=\"dataframe\">\n",
              "  <thead>\n",
              "    <tr style=\"text-align: right;\">\n",
              "      <th></th>\n",
              "      <th>Blue</th>\n",
              "      <th>Wi_Fi</th>\n",
              "      <th>Tch_Scr</th>\n",
              "      <th>Ext_Mem</th>\n",
              "    </tr>\n",
              "  </thead>\n",
              "  <tbody>\n",
              "    <tr>\n",
              "      <th>0</th>\n",
              "      <td>yes</td>\n",
              "      <td>yes</td>\n",
              "      <td>no</td>\n",
              "      <td>no</td>\n",
              "    </tr>\n",
              "    <tr>\n",
              "      <th>1</th>\n",
              "      <td>yes</td>\n",
              "      <td>yes</td>\n",
              "      <td>no</td>\n",
              "      <td>no</td>\n",
              "    </tr>\n",
              "    <tr>\n",
              "      <th>2</th>\n",
              "      <td>no</td>\n",
              "      <td>yes</td>\n",
              "      <td>no</td>\n",
              "      <td>no</td>\n",
              "    </tr>\n",
              "    <tr>\n",
              "      <th>3</th>\n",
              "      <td>no</td>\n",
              "      <td>yes</td>\n",
              "      <td>yes</td>\n",
              "      <td>no</td>\n",
              "    </tr>\n",
              "    <tr>\n",
              "      <th>4</th>\n",
              "      <td>no</td>\n",
              "      <td>yes</td>\n",
              "      <td>yes</td>\n",
              "      <td>no</td>\n",
              "    </tr>\n",
              "    <tr>\n",
              "      <th>5</th>\n",
              "      <td>yes</td>\n",
              "      <td>no</td>\n",
              "      <td>no</td>\n",
              "      <td>no</td>\n",
              "    </tr>\n",
              "    <tr>\n",
              "      <th>6</th>\n",
              "      <td>yes</td>\n",
              "      <td>no</td>\n",
              "      <td>yes</td>\n",
              "      <td>no</td>\n",
              "    </tr>\n",
              "    <tr>\n",
              "      <th>7</th>\n",
              "      <td>yes</td>\n",
              "      <td>no</td>\n",
              "      <td>no</td>\n",
              "      <td>no</td>\n",
              "    </tr>\n",
              "    <tr>\n",
              "      <th>8</th>\n",
              "      <td>yes</td>\n",
              "      <td>yes</td>\n",
              "      <td>yes</td>\n",
              "      <td>yes</td>\n",
              "    </tr>\n",
              "    <tr>\n",
              "      <th>9</th>\n",
              "      <td>yes</td>\n",
              "      <td>yes</td>\n",
              "      <td>yes</td>\n",
              "      <td>yes</td>\n",
              "    </tr>\n",
              "    <tr>\n",
              "      <th>10</th>\n",
              "      <td>yes</td>\n",
              "      <td>yes</td>\n",
              "      <td>yes</td>\n",
              "      <td>yes</td>\n",
              "    </tr>\n",
              "    <tr>\n",
              "      <th>11</th>\n",
              "      <td>yes</td>\n",
              "      <td>yes</td>\n",
              "      <td>yes</td>\n",
              "      <td>yes</td>\n",
              "    </tr>\n",
              "    <tr>\n",
              "      <th>12</th>\n",
              "      <td>no</td>\n",
              "      <td>yes</td>\n",
              "      <td>yes</td>\n",
              "      <td>yes</td>\n",
              "    </tr>\n",
              "    <tr>\n",
              "      <th>13</th>\n",
              "      <td>no</td>\n",
              "      <td>yes</td>\n",
              "      <td>yes</td>\n",
              "      <td>no</td>\n",
              "    </tr>\n",
              "    <tr>\n",
              "      <th>14</th>\n",
              "      <td>yes</td>\n",
              "      <td>yes</td>\n",
              "      <td>yes</td>\n",
              "      <td>yes</td>\n",
              "    </tr>\n",
              "    <tr>\n",
              "      <th>15</th>\n",
              "      <td>no</td>\n",
              "      <td>no</td>\n",
              "      <td>yes</td>\n",
              "      <td>yes</td>\n",
              "    </tr>\n",
              "    <tr>\n",
              "      <th>16</th>\n",
              "      <td>no</td>\n",
              "      <td>no</td>\n",
              "      <td>yes</td>\n",
              "      <td>yes</td>\n",
              "    </tr>\n",
              "    <tr>\n",
              "      <th>17</th>\n",
              "      <td>no</td>\n",
              "      <td>no</td>\n",
              "      <td>yes</td>\n",
              "      <td>yes</td>\n",
              "    </tr>\n",
              "    <tr>\n",
              "      <th>18</th>\n",
              "      <td>no</td>\n",
              "      <td>no</td>\n",
              "      <td>yes</td>\n",
              "      <td>yes</td>\n",
              "    </tr>\n",
              "    <tr>\n",
              "      <th>19</th>\n",
              "      <td>no</td>\n",
              "      <td>no</td>\n",
              "      <td>yes</td>\n",
              "      <td>yes</td>\n",
              "    </tr>\n",
              "    <tr>\n",
              "      <th>20</th>\n",
              "      <td>no</td>\n",
              "      <td>yes</td>\n",
              "      <td>yes</td>\n",
              "      <td>yes</td>\n",
              "    </tr>\n",
              "    <tr>\n",
              "      <th>21</th>\n",
              "      <td>no</td>\n",
              "      <td>yes</td>\n",
              "      <td>yes</td>\n",
              "      <td>yes</td>\n",
              "    </tr>\n",
              "    <tr>\n",
              "      <th>22</th>\n",
              "      <td>no</td>\n",
              "      <td>yes</td>\n",
              "      <td>yes</td>\n",
              "      <td>yes</td>\n",
              "    </tr>\n",
              "    <tr>\n",
              "      <th>23</th>\n",
              "      <td>no</td>\n",
              "      <td>yes</td>\n",
              "      <td>yes</td>\n",
              "      <td>yes</td>\n",
              "    </tr>\n",
              "    <tr>\n",
              "      <th>24</th>\n",
              "      <td>no</td>\n",
              "      <td>yes</td>\n",
              "      <td>yes</td>\n",
              "      <td>yes</td>\n",
              "    </tr>\n",
              "    <tr>\n",
              "      <th>25</th>\n",
              "      <td>no</td>\n",
              "      <td>yes</td>\n",
              "      <td>yes</td>\n",
              "      <td>yes</td>\n",
              "    </tr>\n",
              "    <tr>\n",
              "      <th>26</th>\n",
              "      <td>no</td>\n",
              "      <td>yes</td>\n",
              "      <td>yes</td>\n",
              "      <td>yes</td>\n",
              "    </tr>\n",
              "    <tr>\n",
              "      <th>27</th>\n",
              "      <td>yes</td>\n",
              "      <td>yes</td>\n",
              "      <td>yes</td>\n",
              "      <td>yes</td>\n",
              "    </tr>\n",
              "    <tr>\n",
              "      <th>28</th>\n",
              "      <td>yes</td>\n",
              "      <td>yes</td>\n",
              "      <td>yes</td>\n",
              "      <td>yes</td>\n",
              "    </tr>\n",
              "    <tr>\n",
              "      <th>29</th>\n",
              "      <td>no</td>\n",
              "      <td>yes</td>\n",
              "      <td>yes</td>\n",
              "      <td>yes</td>\n",
              "    </tr>\n",
              "    <tr>\n",
              "      <th>30</th>\n",
              "      <td>yes</td>\n",
              "      <td>yes</td>\n",
              "      <td>yes</td>\n",
              "      <td>yes</td>\n",
              "    </tr>\n",
              "    <tr>\n",
              "      <th>31</th>\n",
              "      <td>no</td>\n",
              "      <td>yes</td>\n",
              "      <td>yes</td>\n",
              "      <td>yes</td>\n",
              "    </tr>\n",
              "    <tr>\n",
              "      <th>32</th>\n",
              "      <td>yes</td>\n",
              "      <td>yes</td>\n",
              "      <td>yes</td>\n",
              "      <td>yes</td>\n",
              "    </tr>\n",
              "    <tr>\n",
              "      <th>33</th>\n",
              "      <td>no</td>\n",
              "      <td>yes</td>\n",
              "      <td>yes</td>\n",
              "      <td>yes</td>\n",
              "    </tr>\n",
              "    <tr>\n",
              "      <th>34</th>\n",
              "      <td>yes</td>\n",
              "      <td>yes</td>\n",
              "      <td>yes</td>\n",
              "      <td>yes</td>\n",
              "    </tr>\n",
              "    <tr>\n",
              "      <th>35</th>\n",
              "      <td>no</td>\n",
              "      <td>yes</td>\n",
              "      <td>yes</td>\n",
              "      <td>yes</td>\n",
              "    </tr>\n",
              "    <tr>\n",
              "      <th>36</th>\n",
              "      <td>yes</td>\n",
              "      <td>yes</td>\n",
              "      <td>yes</td>\n",
              "      <td>yes</td>\n",
              "    </tr>\n",
              "    <tr>\n",
              "      <th>37</th>\n",
              "      <td>yes</td>\n",
              "      <td>yes</td>\n",
              "      <td>yes</td>\n",
              "      <td>yes</td>\n",
              "    </tr>\n",
              "    <tr>\n",
              "      <th>38</th>\n",
              "      <td>yes</td>\n",
              "      <td>yes</td>\n",
              "      <td>yes</td>\n",
              "      <td>yes</td>\n",
              "    </tr>\n",
              "    <tr>\n",
              "      <th>39</th>\n",
              "      <td>yes</td>\n",
              "      <td>yes</td>\n",
              "      <td>yes</td>\n",
              "      <td>yes</td>\n",
              "    </tr>\n",
              "    <tr>\n",
              "      <th>40</th>\n",
              "      <td>yes</td>\n",
              "      <td>yes</td>\n",
              "      <td>yes</td>\n",
              "      <td>yes</td>\n",
              "    </tr>\n",
              "    <tr>\n",
              "      <th>41</th>\n",
              "      <td>yes</td>\n",
              "      <td>yes</td>\n",
              "      <td>yes</td>\n",
              "      <td>yes</td>\n",
              "    </tr>\n",
              "    <tr>\n",
              "      <th>42</th>\n",
              "      <td>yes</td>\n",
              "      <td>yes</td>\n",
              "      <td>yes</td>\n",
              "      <td>yes</td>\n",
              "    </tr>\n",
              "    <tr>\n",
              "      <th>43</th>\n",
              "      <td>no</td>\n",
              "      <td>yes</td>\n",
              "      <td>yes</td>\n",
              "      <td>yes</td>\n",
              "    </tr>\n",
              "    <tr>\n",
              "      <th>44</th>\n",
              "      <td>yes</td>\n",
              "      <td>yes</td>\n",
              "      <td>yes</td>\n",
              "      <td>yes</td>\n",
              "    </tr>\n",
              "    <tr>\n",
              "      <th>45</th>\n",
              "      <td>no</td>\n",
              "      <td>yes</td>\n",
              "      <td>yes</td>\n",
              "      <td>yes</td>\n",
              "    </tr>\n",
              "    <tr>\n",
              "      <th>46</th>\n",
              "      <td>yes</td>\n",
              "      <td>yes</td>\n",
              "      <td>yes</td>\n",
              "      <td>yes</td>\n",
              "    </tr>\n",
              "    <tr>\n",
              "      <th>47</th>\n",
              "      <td>yes</td>\n",
              "      <td>yes</td>\n",
              "      <td>yes</td>\n",
              "      <td>no</td>\n",
              "    </tr>\n",
              "    <tr>\n",
              "      <th>48</th>\n",
              "      <td>yes</td>\n",
              "      <td>yes</td>\n",
              "      <td>yes</td>\n",
              "      <td>no</td>\n",
              "    </tr>\n",
              "    <tr>\n",
              "      <th>49</th>\n",
              "      <td>yes</td>\n",
              "      <td>yes</td>\n",
              "      <td>yes</td>\n",
              "      <td>no</td>\n",
              "    </tr>\n",
              "  </tbody>\n",
              "</table>\n",
              "</div>"
            ],
            "text/plain": [
              "   Blue Wi_Fi Tch_Scr Ext_Mem\n",
              "0   yes   yes      no      no\n",
              "1   yes   yes      no      no\n",
              "2    no   yes      no      no\n",
              "3    no   yes     yes      no\n",
              "4    no   yes     yes      no\n",
              "5   yes    no      no      no\n",
              "6   yes    no     yes      no\n",
              "7   yes    no      no      no\n",
              "8   yes   yes     yes     yes\n",
              "9   yes   yes     yes     yes\n",
              "10  yes   yes     yes     yes\n",
              "11  yes   yes     yes     yes\n",
              "12   no   yes     yes     yes\n",
              "13   no   yes     yes      no\n",
              "14  yes   yes     yes     yes\n",
              "15   no    no     yes     yes\n",
              "16   no    no     yes     yes\n",
              "17   no    no     yes     yes\n",
              "18   no    no     yes     yes\n",
              "19   no    no     yes     yes\n",
              "20   no   yes     yes     yes\n",
              "21   no   yes     yes     yes\n",
              "22   no   yes     yes     yes\n",
              "23   no   yes     yes     yes\n",
              "24   no   yes     yes     yes\n",
              "25   no   yes     yes     yes\n",
              "26   no   yes     yes     yes\n",
              "27  yes   yes     yes     yes\n",
              "28  yes   yes     yes     yes\n",
              "29   no   yes     yes     yes\n",
              "30  yes   yes     yes     yes\n",
              "31   no   yes     yes     yes\n",
              "32  yes   yes     yes     yes\n",
              "33   no   yes     yes     yes\n",
              "34  yes   yes     yes     yes\n",
              "35   no   yes     yes     yes\n",
              "36  yes   yes     yes     yes\n",
              "37  yes   yes     yes     yes\n",
              "38  yes   yes     yes     yes\n",
              "39  yes   yes     yes     yes\n",
              "40  yes   yes     yes     yes\n",
              "41  yes   yes     yes     yes\n",
              "42  yes   yes     yes     yes\n",
              "43   no   yes     yes     yes\n",
              "44  yes   yes     yes     yes\n",
              "45   no   yes     yes     yes\n",
              "46  yes   yes     yes     yes\n",
              "47  yes   yes     yes      no\n",
              "48  yes   yes     yes      no\n",
              "49  yes   yes     yes      no"
            ]
          },
          "execution_count": 14,
          "metadata": {},
          "output_type": "execute_result"
        }
      ],
      "source": [
        "# Get the feature names of the dataframe\n",
        "\n",
        "data[['Blue','Wi_Fi','Tch_Scr','Ext_Mem']]"
      ]
    },
    {
      "cell_type": "code",
      "execution_count": 9,
      "metadata": {
        "id": "4qnHqu_vN86H"
      },
      "outputs": [],
      "source": [
        "# Let's tackle these features: \"Blue\", \"Wi_Fi\", \"Tch_Scr\", \"Ext_Mem\""
      ]
    },
    {
      "cell_type": "code",
      "execution_count": 24,
      "metadata": {
        "id": "8N-jff5hN86I"
      },
      "outputs": [
        {
          "data": {
            "text/plain": [
              "0     False\n",
              "1     False\n",
              "2     False\n",
              "3     False\n",
              "4     False\n",
              "5     False\n",
              "6     False\n",
              "7     False\n",
              "8      True\n",
              "9      True\n",
              "10     True\n",
              "11     True\n",
              "12    False\n",
              "13    False\n",
              "14     True\n",
              "15    False\n",
              "16    False\n",
              "17    False\n",
              "18    False\n",
              "19    False\n",
              "20    False\n",
              "21    False\n",
              "22    False\n",
              "23    False\n",
              "24    False\n",
              "25    False\n",
              "26    False\n",
              "27     True\n",
              "28     True\n",
              "29    False\n",
              "30     True\n",
              "31    False\n",
              "32     True\n",
              "33    False\n",
              "34     True\n",
              "35    False\n",
              "36     True\n",
              "37     True\n",
              "38     True\n",
              "39     True\n",
              "40     True\n",
              "41     True\n",
              "42     True\n",
              "43    False\n",
              "44     True\n",
              "45    False\n",
              "46     True\n",
              "47    False\n",
              "48    False\n",
              "49    False\n",
              "dtype: bool"
            ]
          },
          "execution_count": 24,
          "metadata": {},
          "output_type": "execute_result"
        }
      ],
      "source": [
        "# The children want phones that have the following: Bluetooth, WiFi, touch screen and external memory support\n",
        "# Create a logical condition for this situation and store the logical values as \"con1\"\n",
        "\n",
        "con1=(data['Blue']=='yes') & (data['Wi_Fi']=='yes') & (data['Tch_Scr']=='yes') & (data['Ext_Mem']=='yes')\n",
        "con1.head(50)"
      ]
    },
    {
      "cell_type": "markdown",
      "metadata": {
        "id": "KilesitnQjMF"
      },
      "source": [
        "Observations:\n",
        "\n",
        "The features \"Blue\", \"Wi_Fi\", \"Tch_Scr\" and \"Ext_Mem\" are binary in nature.\n",
        "\n",
        "The children want all these features, so the logical condition \"con1\" has been obtained accordingly."
      ]
    },
    {
      "cell_type": "markdown",
      "metadata": {
        "id": "n8qZScOZQsj3"
      },
      "source": [
        "## Task 3 - Obtain the logical conditions for the features \"Px_h\" and \"Px_w\""
      ]
    },
    {
      "cell_type": "code",
      "execution_count": 25,
      "metadata": {
        "id": "UgpsX9ZYN86M"
      },
      "outputs": [
        {
          "data": {
            "text/html": [
              "<div>\n",
              "<style scoped>\n",
              "    .dataframe tbody tr th:only-of-type {\n",
              "        vertical-align: middle;\n",
              "    }\n",
              "\n",
              "    .dataframe tbody tr th {\n",
              "        vertical-align: top;\n",
              "    }\n",
              "\n",
              "    .dataframe thead th {\n",
              "        text-align: right;\n",
              "    }\n",
              "</style>\n",
              "<table border=\"1\" class=\"dataframe\">\n",
              "  <thead>\n",
              "    <tr style=\"text-align: right;\">\n",
              "      <th></th>\n",
              "      <th>Px_h</th>\n",
              "      <th>Px_w</th>\n",
              "    </tr>\n",
              "  </thead>\n",
              "  <tbody>\n",
              "    <tr>\n",
              "      <th>0</th>\n",
              "      <td>780</td>\n",
              "      <td>460</td>\n",
              "    </tr>\n",
              "    <tr>\n",
              "      <th>1</th>\n",
              "      <td>780</td>\n",
              "      <td>560</td>\n",
              "    </tr>\n",
              "    <tr>\n",
              "      <th>2</th>\n",
              "      <td>840</td>\n",
              "      <td>720</td>\n",
              "    </tr>\n",
              "    <tr>\n",
              "      <th>3</th>\n",
              "      <td>1280</td>\n",
              "      <td>1120</td>\n",
              "    </tr>\n",
              "    <tr>\n",
              "      <th>4</th>\n",
              "      <td>1280</td>\n",
              "      <td>1080</td>\n",
              "    </tr>\n",
              "    <tr>\n",
              "      <th>5</th>\n",
              "      <td>1280</td>\n",
              "      <td>1080</td>\n",
              "    </tr>\n",
              "    <tr>\n",
              "      <th>6</th>\n",
              "      <td>1390</td>\n",
              "      <td>1080</td>\n",
              "    </tr>\n",
              "    <tr>\n",
              "      <th>7</th>\n",
              "      <td>2880</td>\n",
              "      <td>2120</td>\n",
              "    </tr>\n",
              "    <tr>\n",
              "      <th>8</th>\n",
              "      <td>2580</td>\n",
              "      <td>1920</td>\n",
              "    </tr>\n",
              "    <tr>\n",
              "      <th>9</th>\n",
              "      <td>2580</td>\n",
              "      <td>1980</td>\n",
              "    </tr>\n",
              "    <tr>\n",
              "      <th>10</th>\n",
              "      <td>2580</td>\n",
              "      <td>1920</td>\n",
              "    </tr>\n",
              "    <tr>\n",
              "      <th>11</th>\n",
              "      <td>2580</td>\n",
              "      <td>1920</td>\n",
              "    </tr>\n",
              "    <tr>\n",
              "      <th>12</th>\n",
              "      <td>2580</td>\n",
              "      <td>1980</td>\n",
              "    </tr>\n",
              "    <tr>\n",
              "      <th>13</th>\n",
              "      <td>2880</td>\n",
              "      <td>2120</td>\n",
              "    </tr>\n",
              "    <tr>\n",
              "      <th>14</th>\n",
              "      <td>2380</td>\n",
              "      <td>1820</td>\n",
              "    </tr>\n",
              "    <tr>\n",
              "      <th>15</th>\n",
              "      <td>1980</td>\n",
              "      <td>1760</td>\n",
              "    </tr>\n",
              "    <tr>\n",
              "      <th>16</th>\n",
              "      <td>2580</td>\n",
              "      <td>1980</td>\n",
              "    </tr>\n",
              "    <tr>\n",
              "      <th>17</th>\n",
              "      <td>2880</td>\n",
              "      <td>2120</td>\n",
              "    </tr>\n",
              "    <tr>\n",
              "      <th>18</th>\n",
              "      <td>1980</td>\n",
              "      <td>1760</td>\n",
              "    </tr>\n",
              "    <tr>\n",
              "      <th>19</th>\n",
              "      <td>2880</td>\n",
              "      <td>2120</td>\n",
              "    </tr>\n",
              "    <tr>\n",
              "      <th>20</th>\n",
              "      <td>1980</td>\n",
              "      <td>1760</td>\n",
              "    </tr>\n",
              "    <tr>\n",
              "      <th>21</th>\n",
              "      <td>2580</td>\n",
              "      <td>1980</td>\n",
              "    </tr>\n",
              "    <tr>\n",
              "      <th>22</th>\n",
              "      <td>1440</td>\n",
              "      <td>1280</td>\n",
              "    </tr>\n",
              "    <tr>\n",
              "      <th>23</th>\n",
              "      <td>2880</td>\n",
              "      <td>2120</td>\n",
              "    </tr>\n",
              "    <tr>\n",
              "      <th>24</th>\n",
              "      <td>1440</td>\n",
              "      <td>1280</td>\n",
              "    </tr>\n",
              "    <tr>\n",
              "      <th>25</th>\n",
              "      <td>2580</td>\n",
              "      <td>1980</td>\n",
              "    </tr>\n",
              "    <tr>\n",
              "      <th>26</th>\n",
              "      <td>1980</td>\n",
              "      <td>1280</td>\n",
              "    </tr>\n",
              "    <tr>\n",
              "      <th>27</th>\n",
              "      <td>2580</td>\n",
              "      <td>2120</td>\n",
              "    </tr>\n",
              "    <tr>\n",
              "      <th>28</th>\n",
              "      <td>2580</td>\n",
              "      <td>2120</td>\n",
              "    </tr>\n",
              "    <tr>\n",
              "      <th>29</th>\n",
              "      <td>2580</td>\n",
              "      <td>2120</td>\n",
              "    </tr>\n",
              "    <tr>\n",
              "      <th>30</th>\n",
              "      <td>2580</td>\n",
              "      <td>2120</td>\n",
              "    </tr>\n",
              "    <tr>\n",
              "      <th>31</th>\n",
              "      <td>2580</td>\n",
              "      <td>2120</td>\n",
              "    </tr>\n",
              "    <tr>\n",
              "      <th>32</th>\n",
              "      <td>2580</td>\n",
              "      <td>2120</td>\n",
              "    </tr>\n",
              "    <tr>\n",
              "      <th>33</th>\n",
              "      <td>2580</td>\n",
              "      <td>2120</td>\n",
              "    </tr>\n",
              "    <tr>\n",
              "      <th>34</th>\n",
              "      <td>2880</td>\n",
              "      <td>2120</td>\n",
              "    </tr>\n",
              "    <tr>\n",
              "      <th>35</th>\n",
              "      <td>2440</td>\n",
              "      <td>2120</td>\n",
              "    </tr>\n",
              "    <tr>\n",
              "      <th>36</th>\n",
              "      <td>2580</td>\n",
              "      <td>1980</td>\n",
              "    </tr>\n",
              "    <tr>\n",
              "      <th>37</th>\n",
              "      <td>2440</td>\n",
              "      <td>1980</td>\n",
              "    </tr>\n",
              "    <tr>\n",
              "      <th>38</th>\n",
              "      <td>2580</td>\n",
              "      <td>1920</td>\n",
              "    </tr>\n",
              "    <tr>\n",
              "      <th>39</th>\n",
              "      <td>2440</td>\n",
              "      <td>1980</td>\n",
              "    </tr>\n",
              "    <tr>\n",
              "      <th>40</th>\n",
              "      <td>2580</td>\n",
              "      <td>1980</td>\n",
              "    </tr>\n",
              "    <tr>\n",
              "      <th>41</th>\n",
              "      <td>2580</td>\n",
              "      <td>1980</td>\n",
              "    </tr>\n",
              "    <tr>\n",
              "      <th>42</th>\n",
              "      <td>2580</td>\n",
              "      <td>1980</td>\n",
              "    </tr>\n",
              "    <tr>\n",
              "      <th>43</th>\n",
              "      <td>2580</td>\n",
              "      <td>1980</td>\n",
              "    </tr>\n",
              "    <tr>\n",
              "      <th>44</th>\n",
              "      <td>2580</td>\n",
              "      <td>1980</td>\n",
              "    </tr>\n",
              "    <tr>\n",
              "      <th>45</th>\n",
              "      <td>2580</td>\n",
              "      <td>1980</td>\n",
              "    </tr>\n",
              "    <tr>\n",
              "      <th>46</th>\n",
              "      <td>2580</td>\n",
              "      <td>1980</td>\n",
              "    </tr>\n",
              "    <tr>\n",
              "      <th>47</th>\n",
              "      <td>2880</td>\n",
              "      <td>2520</td>\n",
              "    </tr>\n",
              "    <tr>\n",
              "      <th>48</th>\n",
              "      <td>2880</td>\n",
              "      <td>2520</td>\n",
              "    </tr>\n",
              "    <tr>\n",
              "      <th>49</th>\n",
              "      <td>2880</td>\n",
              "      <td>2520</td>\n",
              "    </tr>\n",
              "  </tbody>\n",
              "</table>\n",
              "</div>"
            ],
            "text/plain": [
              "    Px_h  Px_w\n",
              "0    780   460\n",
              "1    780   560\n",
              "2    840   720\n",
              "3   1280  1120\n",
              "4   1280  1080\n",
              "5   1280  1080\n",
              "6   1390  1080\n",
              "7   2880  2120\n",
              "8   2580  1920\n",
              "9   2580  1980\n",
              "10  2580  1920\n",
              "11  2580  1920\n",
              "12  2580  1980\n",
              "13  2880  2120\n",
              "14  2380  1820\n",
              "15  1980  1760\n",
              "16  2580  1980\n",
              "17  2880  2120\n",
              "18  1980  1760\n",
              "19  2880  2120\n",
              "20  1980  1760\n",
              "21  2580  1980\n",
              "22  1440  1280\n",
              "23  2880  2120\n",
              "24  1440  1280\n",
              "25  2580  1980\n",
              "26  1980  1280\n",
              "27  2580  2120\n",
              "28  2580  2120\n",
              "29  2580  2120\n",
              "30  2580  2120\n",
              "31  2580  2120\n",
              "32  2580  2120\n",
              "33  2580  2120\n",
              "34  2880  2120\n",
              "35  2440  2120\n",
              "36  2580  1980\n",
              "37  2440  1980\n",
              "38  2580  1920\n",
              "39  2440  1980\n",
              "40  2580  1980\n",
              "41  2580  1980\n",
              "42  2580  1980\n",
              "43  2580  1980\n",
              "44  2580  1980\n",
              "45  2580  1980\n",
              "46  2580  1980\n",
              "47  2880  2520\n",
              "48  2880  2520\n",
              "49  2880  2520"
            ]
          },
          "execution_count": 25,
          "metadata": {},
          "output_type": "execute_result"
        }
      ],
      "source": [
        "# Get the feature names of the dataframe\n",
        "data[['Px_h','Px_w']]\n"
      ]
    },
    {
      "cell_type": "code",
      "execution_count": null,
      "metadata": {
        "id": "HvY0q-JeN86N"
      },
      "outputs": [],
      "source": [
        "# Let's tackle these features: \"Px_h\", \"Px_w\""
      ]
    },
    {
      "cell_type": "code",
      "execution_count": 79,
      "metadata": {
        "id": "9g8VvPLiN86O"
      },
      "outputs": [
        {
          "data": {
            "text/plain": [
              "0      358800\n",
              "1      436800\n",
              "2      604800\n",
              "3     1433600\n",
              "4     1382400\n",
              "5     1382400\n",
              "6     1501200\n",
              "7     6105600\n",
              "8     4953600\n",
              "9     5108400\n",
              "10    4953600\n",
              "11    4953600\n",
              "12    5108400\n",
              "13    6105600\n",
              "14    4331600\n",
              "15    3484800\n",
              "16    5108400\n",
              "17    6105600\n",
              "18    3484800\n",
              "19    6105600\n",
              "20    3484800\n",
              "21    5108400\n",
              "22    1843200\n",
              "23    6105600\n",
              "24    1843200\n",
              "25    5108400\n",
              "26    2534400\n",
              "27    5469600\n",
              "28    5469600\n",
              "29    5469600\n",
              "30    5469600\n",
              "31    5469600\n",
              "32    5469600\n",
              "33    5469600\n",
              "34    6105600\n",
              "35    5172800\n",
              "36    5108400\n",
              "37    4831200\n",
              "38    4953600\n",
              "39    4831200\n",
              "40    5108400\n",
              "41    5108400\n",
              "42    5108400\n",
              "43    5108400\n",
              "44    5108400\n",
              "45    5108400\n",
              "46    5108400\n",
              "47    7257600\n",
              "48    7257600\n",
              "49    7257600\n",
              "Name: Px, dtype: int64"
            ]
          },
          "execution_count": 79,
          "metadata": {},
          "output_type": "execute_result"
        }
      ],
      "source": [
        "# Create a new feature called \"Px\" which stores the total resolution of the screen\n",
        "data['Px']=data['Px_h']*data['Px_w']\n",
        "data['Px']"
      ]
    },
    {
      "cell_type": "code",
      "execution_count": 146,
      "metadata": {
        "id": "nbYsIHpjN86P"
      },
      "outputs": [
        {
          "data": {
            "image/png": "[encoded data removed]",
            "text/plain": [
              "<Figure size 800x600 with 1 Axes>"
            ]
          },
          "metadata": {},
          "output_type": "display_data"
        },
        {
          "name": "stdout",
          "output_type": "stream",
          "text": [
            "Mean: 4517184.0\n",
            "Median: 5108400.0\n"
          ]
        }
      ],
      "source": [
        "# Create a histogram of the \"Px\" feature and also show the mean and the median\n",
        "\n",
        "pt.figure(figsize=(8,6))\n",
        "sb.histplot(data=data,x='Px',color='green',edgecolor='black',bins=20)\n",
        "pt.title(\"Resolution of Mobile Phones\")\n",
        "pt.xlabel(\"Resolution of both Height and Width of the Phone\")\n",
        "pt.ylabel(\"Frequency\")\n",
        "pt.vlines(data['Px'].mean(),ymin=0,ymax=20,color='blue')\n",
        "pt.vlines(data['Px'].median(),ymin=0,ymax=20,color='red')\n",
        "pt.legend(['Mean','Median'])\n",
        "pt.show()\n",
        "\n",
        "\n",
        "print('Mean:',data['Px'].mean())\n",
        "print('Median:',data['Px'].median())"
      ]
    },
    {
      "cell_type": "code",
      "execution_count": 81,
      "metadata": {
        "id": "SxaYgagyN86Q"
      },
      "outputs": [
        {
          "data": {
            "text/plain": [
              "0     False\n",
              "1     False\n",
              "2     False\n",
              "3     False\n",
              "4     False\n",
              "5     False\n",
              "6     False\n",
              "7      True\n",
              "8     False\n",
              "9      True\n",
              "10    False\n",
              "11    False\n",
              "12     True\n",
              "13     True\n",
              "14    False\n",
              "15    False\n",
              "16     True\n",
              "17     True\n",
              "18    False\n",
              "19     True\n",
              "20    False\n",
              "21     True\n",
              "22    False\n",
              "23     True\n",
              "24    False\n",
              "25     True\n",
              "26    False\n",
              "27     True\n",
              "28     True\n",
              "29     True\n",
              "30     True\n",
              "31     True\n",
              "32     True\n",
              "33     True\n",
              "34     True\n",
              "35     True\n",
              "36     True\n",
              "37    False\n",
              "38    False\n",
              "39    False\n",
              "40     True\n",
              "41     True\n",
              "42     True\n",
              "43     True\n",
              "44     True\n",
              "45     True\n",
              "46     True\n",
              "47     True\n",
              "48     True\n",
              "49     True\n",
              "Name: Px, dtype: bool"
            ]
          },
          "execution_count": 81,
          "metadata": {},
          "output_type": "execute_result"
        }
      ],
      "source": [
        "# The children want phones that have good screen resolutions\n",
        "# Consider the phones that have screen resolutions greater than or equal to the median value in the data set\n",
        "# Create a logical condition for this situation and store the logical values as \"con2\"\n",
        "con2=data['Px']>=data['Px'].median()\n",
        "con2\n",
        "\n"
      ]
    },
    {
      "cell_type": "markdown",
      "metadata": {
        "id": "M-DC9VY2RBZQ"
      },
      "source": [
        "Observations:\n",
        "\n",
        "The features \"Px_h\" and \"Px_w\" are respectively the number of pixels in the phone screen in the vertical and horizontal axes.\n",
        "\n",
        "We created a new feature called \"Px\" which is the product of the features \"Px_h\" and \"Px_w\".\n",
        "\n",
        "The median has been selected as a threshold in this case.\n",
        "\n",
        "In case it is too strict, we can choose the mean as a threshold."
      ]
    },
    {
      "cell_type": "markdown",
      "metadata": {
        "id": "ih3ev8-0RJg5"
      },
      "source": [
        "# Task 4 - Obtain the logical conditions for the features \"Scr_h\" and \"Scr_w\""
      ]
    },
    {
      "cell_type": "code",
      "execution_count": null,
      "metadata": {
        "id": "EsEcEKKTN86T"
      },
      "outputs": [],
      "source": [
        "# Let's tackle these features: \"Scr_h\", \"Scr_w\""
      ]
    },
    {
      "cell_type": "code",
      "execution_count": 58,
      "metadata": {
        "id": "qTOcx3FCN86U"
      },
      "outputs": [
        {
          "data": {
            "text/plain": [
              "0      3.162278\n",
              "1      2.236068\n",
              "2      2.236068\n",
              "3      5.830952\n",
              "4      5.000000\n",
              "5      5.000000\n",
              "6      6.708204\n",
              "7     10.000000\n",
              "8      6.708204\n",
              "9      5.830952\n",
              "10     6.708204\n",
              "11    10.000000\n",
              "12     7.810250\n",
              "13     7.810250\n",
              "14     5.830952\n",
              "15    12.806248\n",
              "16    10.000000\n",
              "17    10.000000\n",
              "18    10.000000\n",
              "19     5.000000\n",
              "20     5.000000\n",
              "21    10.000000\n",
              "22     5.000000\n",
              "23    12.806248\n",
              "24     7.211103\n",
              "25     6.708204\n",
              "26     5.830952\n",
              "27    10.000000\n",
              "28    10.000000\n",
              "29    10.000000\n",
              "30    10.000000\n",
              "31    10.000000\n",
              "32    10.000000\n",
              "33    10.000000\n",
              "34     6.708204\n",
              "35     5.830952\n",
              "36    12.806248\n",
              "37     5.830952\n",
              "38     5.830952\n",
              "39     7.810250\n",
              "40     5.830952\n",
              "41    10.000000\n",
              "42    10.000000\n",
              "43    10.000000\n",
              "44    12.806248\n",
              "45    10.000000\n",
              "46     5.000000\n",
              "47    10.000000\n",
              "48    10.000000\n",
              "49    10.000000\n",
              "Name: Scr_d, dtype: float64"
            ]
          },
          "execution_count": 58,
          "metadata": {},
          "output_type": "execute_result"
        }
      ],
      "source": [
        "# Create a new feature called \"Scr_d\" which stores the length of the diagonal of the screen of the phone\n",
        "\n",
        "data['Scr_d']=np.sqrt(data['Scr_h']**2 + data['Scr_w']**2)\n",
        "data['Scr_d']\n"
      ]
    },
    {
      "cell_type": "code",
      "execution_count": 144,
      "metadata": {
        "id": "83gzdEN7N86U"
      },
      "outputs": [
        {
          "data": {
            "image/png": "[encoded data removed]",
            "text/plain": [
              "<Figure size 800x400 with 1 Axes>"
            ]
          },
          "metadata": {},
          "output_type": "display_data"
        },
        {
          "name": "stdout",
          "output_type": "stream",
          "text": [
            "Mean: 7.993797878290759\n",
            "Median: 7.810249675906654\n"
          ]
        }
      ],
      "source": [
        "# Create a histogram of the \"Scr_d\" feature and also show the quartiles\n",
        "pt.figure(figsize=(8,4))\n",
        "sb.histplot(data=data,x='Scr_d',color='r',edgecolor='black',bins=6)\n",
        "pt.title(\"Histogram on the Scr_d Feature\")\n",
        "pt.ylabel(\"Length of the Diagnol Of the Mobile Phone\")\n",
        "pt.xlabel(\"No.of Mobile Phones\")\n",
        "pt.vlines(data['Scr_d'].mean(),ymin=0,ymax=20,color='yellow')\n",
        "pt.vlines(data['Scr_d'].median(),ymin=0,ymax=20,color='black')\n",
        "pt.legend(['Mean','Median'])\n",
        "pt.show()\n",
        "\n",
        "\n",
        "print(\"Mean:\",data['Scr_d'].mean())\n",
        "print(\"Median:\",data['Scr_d'].median())"
      ]
    },
    {
      "cell_type": "code",
      "execution_count": 77,
      "metadata": {
        "id": "aEvL_TPSN86V"
      },
      "outputs": [
        {
          "data": {
            "text/plain": [
              "0     False\n",
              "1     False\n",
              "2     False\n",
              "3     False\n",
              "4     False\n",
              "5     False\n",
              "6     False\n",
              "7      True\n",
              "8     False\n",
              "9     False\n",
              "10    False\n",
              "11     True\n",
              "12    False\n",
              "13    False\n",
              "14    False\n",
              "15     True\n",
              "16     True\n",
              "17     True\n",
              "18     True\n",
              "19    False\n",
              "20    False\n",
              "21     True\n",
              "22    False\n",
              "23     True\n",
              "24    False\n",
              "25    False\n",
              "26    False\n",
              "27     True\n",
              "28     True\n",
              "29     True\n",
              "30     True\n",
              "31     True\n",
              "32     True\n",
              "33     True\n",
              "34    False\n",
              "35    False\n",
              "36     True\n",
              "37    False\n",
              "38    False\n",
              "39    False\n",
              "40    False\n",
              "41     True\n",
              "42     True\n",
              "43     True\n",
              "44     True\n",
              "45     True\n",
              "46    False\n",
              "47     True\n",
              "48     True\n",
              "49     True\n",
              "Name: Scr_d, dtype: bool"
            ]
          },
          "execution_count": 77,
          "metadata": {},
          "output_type": "execute_result"
        }
      ],
      "source": [
        "# The children want phones that have very good screen sizes\n",
        "# Consider the phones that have screen sizes greater than or equal to the upper quartile value in the data set\n",
        "# Create a logical condition for this situation and store the logical values as \"con3\"\n",
        "con3=data['Scr_d']>=data['Scr_d'].quantile(0.75)\n",
        "con3\n",
        "\n"
      ]
    },
    {
      "cell_type": "markdown",
      "metadata": {
        "id": "BKDitmp9RZDe"
      },
      "source": [
        "Observations:\n",
        "\n",
        "The features \"Scr_h\" and \"Scr_w\" are respectively the height and the width of the phone screen.\n",
        "\n",
        "We created a new feature called \"Scr_d\" which is essentially the length of the screen diagonal.\n",
        "\n",
        "The upper quartile has been selected as a threshold in this case as the children were very particular on this point.\n",
        "\n",
        "In case it is too strict, we can choose the mean or the median as a threshold."
      ]
    },
    {
      "cell_type": "markdown",
      "metadata": {
        "id": "21dZEsZRRikD"
      },
      "source": [
        "# Task 5 - Obtain the logical conditions for the features \"PC\" and \"FC\""
      ]
    },
    {
      "cell_type": "code",
      "execution_count": null,
      "metadata": {
        "id": "lCQR8DBRN86Y"
      },
      "outputs": [],
      "source": [
        "# Let's tackle these features: \"PC\", \"FC\""
      ]
    },
    {
      "cell_type": "code",
      "execution_count": 143,
      "metadata": {
        "id": "KtH-XWmqN86Z"
      },
      "outputs": [
        {
          "data": {
            "image/png": "[encoded data removed]",
            "text/plain": [
              "<Figure size 800x400 with 1 Axes>"
            ]
          },
          "metadata": {},
          "output_type": "display_data"
        },
        {
          "name": "stdout",
          "output_type": "stream",
          "text": [
            "Mean: 42.16\n",
            "Median: 40.0\n",
            "Skew: 0.636203213610015\n"
          ]
        }
      ],
      "source": [
        "# Create a histogram of the \"PC\" feature and also show the mean and the median\n",
        "\n",
        "pt.figure(figsize=(8,4))\n",
        "sb.histplot(data=data,x='PC',color='pink',edgecolor='black',bins=6)\n",
        "pt.title(\"Histogram on Primary Camera\")\n",
        "pt.xlabel(\"Primary Camera in MegaPixels\")\n",
        "pt.ylabel(\"No.of Mobile Phones\")\n",
        "pt.vlines(data['PC'].mean(),ymin=0,ymax=30,color='red')\n",
        "pt.vlines(data['PC'].median(),ymin=0,ymax=30,color='black')\n",
        "pt.legend(['Mean','Median'])\n",
        "pt.show()\n",
        "\n",
        "print('Mean:',data['PC'].mean())\n",
        "print('Median:',data['PC'].median())\n",
        "print('Skew:',data['PC'].skew())\n"
      ]
    },
    {
      "cell_type": "code",
      "execution_count": 142,
      "metadata": {
        "id": "vMp3OWR0N86a"
      },
      "outputs": [
        {
          "data": {
            "image/png": "[encoded data removed]",
            "text/plain": [
              "<Figure size 800x400 with 1 Axes>"
            ]
          },
          "metadata": {},
          "output_type": "display_data"
        },
        {
          "name": "stdout",
          "output_type": "stream",
          "text": [
            "Mean: 20.76\n",
            "Median: 16.0\n",
            "Skew: 0.7798311397464487\n"
          ]
        }
      ],
      "source": [
        "# Create a histogram of the \"FC\" feature and also show the mean and the median\n",
        "\n",
        "pt.figure(figsize=(8,4))\n",
        "sb.histplot(data=data,x='FC',color='grey',edgecolor='black',bins=6)\n",
        "pt.title(\"Histogram on Front Camera\")\n",
        "pt.xlabel(\"Front Camera in MP\")\n",
        "pt.ylabel(\"No.of Mobiles Phones\")\n",
        "pt.vlines(data['FC'].mean(),ymin=0,ymax=30,color='red')\n",
        "pt.vlines(data['FC'].median(),ymin=0,ymax=30,color='black')\n",
        "pt.legend(['Mean','Median'])\n",
        "pt.show()\n",
        "\n",
        "print('Mean:',data['FC'].mean())\n",
        "print('Median:',data['FC'].median())\n",
        "print('Skew:',data['FC'].skew())\n"
      ]
    },
    {
      "cell_type": "code",
      "execution_count": 108,
      "metadata": {
        "id": "uwOY8IGoN86a"
      },
      "outputs": [
        {
          "data": {
            "text/plain": [
              "0     False\n",
              "1     False\n",
              "2     False\n",
              "3     False\n",
              "4     False\n",
              "5     False\n",
              "6     False\n",
              "7     False\n",
              "8     False\n",
              "9      True\n",
              "10    False\n",
              "11     True\n",
              "12     True\n",
              "13    False\n",
              "14    False\n",
              "15    False\n",
              "16     True\n",
              "17    False\n",
              "18    False\n",
              "19    False\n",
              "20    False\n",
              "21     True\n",
              "22    False\n",
              "23    False\n",
              "24    False\n",
              "25     True\n",
              "26    False\n",
              "27    False\n",
              "28     True\n",
              "29    False\n",
              "30     True\n",
              "31    False\n",
              "32     True\n",
              "33     True\n",
              "34     True\n",
              "35    False\n",
              "36     True\n",
              "37     True\n",
              "38     True\n",
              "39    False\n",
              "40     True\n",
              "41    False\n",
              "42     True\n",
              "43    False\n",
              "44     True\n",
              "45     True\n",
              "46     True\n",
              "47     True\n",
              "48     True\n",
              "49     True\n",
              "dtype: bool"
            ]
          },
          "execution_count": 108,
          "metadata": {},
          "output_type": "execute_result"
        }
      ],
      "source": [
        "# The children want phones that have good primary and front camera resolutions\n",
        "# Consider the phones that have primary and front camera resolutions greater than or equal to their respective mean values\n",
        "# Create a logical condition for this situation and store the logical values as \"con4\"\n",
        "PC=data['PC'].mean()\n",
        "FC=data['FC'].mean()\n",
        "\n",
        "x=data['PC']>=PC\n",
        "y=data['FC']>=FC\n",
        "\n",
        "con4=x & y\n",
        "con4\n"
      ]
    },
    {
      "cell_type": "markdown",
      "metadata": {
        "id": "jo7yqfJSRvNT"
      },
      "source": [
        "Observations:\n",
        "\n",
        "The features \"PC\" and \"FC\" are respectively the resolutions of the primary camera and the front camera.\n",
        "\n",
        "The respective means have been selected as thresholds in this case.\n",
        "\n",
        "In case it is too strict, we can choose the respective medians as thresholds."
      ]
    },
    {
      "cell_type": "markdown",
      "metadata": {
        "id": "iu0E_MTAR3Pn"
      },
      "source": [
        "# Task 6 - Obtain the logical conditions for the features \"Int_Mem\", \"Bty_Pwr\" and \"RAM\""
      ]
    },
    {
      "cell_type": "code",
      "execution_count": null,
      "metadata": {
        "id": "tnBJk7xFN86d"
      },
      "outputs": [],
      "source": [
        "# Let's tackle these features: \"Int_Mem\", \"Bty_Pwr\", \"RAM\""
      ]
    },
    {
      "cell_type": "code",
      "execution_count": 141,
      "metadata": {
        "id": "YMBT6fVEN86e"
      },
      "outputs": [
        {
          "data": {
            "image/png": "[encoded data removed]",
            "text/plain": [
              "<Figure size 800x400 with 1 Axes>"
            ]
          },
          "metadata": {},
          "output_type": "display_data"
        },
        {
          "name": "stdout",
          "output_type": "stream",
          "text": [
            "Mean: 173.76\n",
            "Median: 64.0\n",
            "Skew: 2.315615992566276\n"
          ]
        }
      ],
      "source": [
        "# Create a histogram of the \"Int_Mem\" feature and also show the mean and the median\n",
        "pt.figure(figsize=(8,4))\n",
        "sb.histplot(data=data,x='Int_Mem',color='black',edgecolor='black',bins=6)\n",
        "pt.title(\"Histogram on Internal Memory\")\n",
        "pt.xlabel(\"Internal Memory in GB\")\n",
        "pt.ylabel(\"No.of Mobile Phones\")\n",
        "pt.vlines(data['Int_Mem'].mean(),ymin=0,ymax=32,color='red')\n",
        "pt.vlines(data['Int_Mem'].median(),ymin=0,ymax=32,color='white')\n",
        "pt.legend(['Mean','Median'])\n",
        "pt.show()\n",
        "\n",
        "print('Mean:',data['Int_Mem'].mean())\n",
        "print('Median:',data['Int_Mem'].median())\n",
        "print('Skew:',data['Int_Mem'].skew())\n"
      ]
    },
    {
      "cell_type": "code",
      "execution_count": 140,
      "metadata": {
        "id": "oPjFp16vN86e"
      },
      "outputs": [
        {
          "data": {
            "image/png": "[encoded data removed]",
            "text/plain": [
              "<Figure size 800x400 with 1 Axes>"
            ]
          },
          "metadata": {},
          "output_type": "display_data"
        },
        {
          "name": "stdout",
          "output_type": "stream",
          "text": [
            "Mean: 3740.0\n",
            "Median: 3300.0\n",
            "Skew: 0.49478799018132996\n"
          ]
        }
      ],
      "source": [
        "# Create a histogram of the \"Bty_Pwr\" feature and also show the mean and the median\n",
        "pt.figure(figsize=(8,4))\n",
        "sb.histplot(data=data,x='Bty_Pwr',color='blue',edgecolor='black',bins=6)\n",
        "pt.title(\"Histogram on Caacity of Battery Power\")\n",
        "pt.xlabel(\"Battery Power in mAH\")\n",
        "pt.ylabel(\"No.of Mobile Phones\")\n",
        "pt.vlines(data['Bty_Pwr'].mean(),ymin=0,ymax=32,color='red')\n",
        "pt.vlines(data['Bty_Pwr'].median(),ymin=0,ymax=32,color='black')\n",
        "pt.legend(['Mean','Median'])\n",
        "pt.show()\n",
        "\n",
        "print('Mean:',data['Bty_Pwr'].mean())\n",
        "print('Median:',data['Bty_Pwr'].median())\n",
        "print('Skew:',data['Bty_Pwr'].skew())\n",
        "\n"
      ]
    },
    {
      "cell_type": "code",
      "execution_count": 139,
      "metadata": {
        "id": "TS83YmlQN86f"
      },
      "outputs": [
        {
          "data": {
            "image/png": "[encoded data removed]",
            "text/plain": [
              "<Figure size 800x400 with 1 Axes>"
            ]
          },
          "metadata": {},
          "output_type": "display_data"
        },
        {
          "name": "stdout",
          "output_type": "stream",
          "text": [
            "Mean: 5.76\n",
            "Median: 5.0\n",
            "Skew: 0.4181758297582378\n"
          ]
        }
      ],
      "source": [
        "# Create a histogram of the \"RAM\" feature and also show the mean and the median\n",
        "pt.figure(figsize=(8,4))\n",
        "sb.histplot(data=data,x='RAM',color='yellow',edgecolor='black',bins=6)\n",
        "pt.title(\"Histogram on RAM\")\n",
        "pt.xlabel(\"Internal Storage in GB\")\n",
        "pt.ylabel(\"No.of Mobiles\")\n",
        "pt.vlines(data['RAM'].mean(),ymin=0,ymax=32,color='red')\n",
        "pt.vlines(data['RAM'].median(),ymin=0,ymax=32,color='black')\n",
        "pt.legend(['Mean','Median'])\n",
        "pt.show()\n",
        "\n",
        "print('Mean:',data['RAM'].mean())\n",
        "print('Median:',data['RAM'].median())\n",
        "print('Skew:',data['RAM'].skew())\n"
      ]
    },
    {
      "cell_type": "code",
      "execution_count": 130,
      "metadata": {
        "id": "Ty-VGMoDN86g"
      },
      "outputs": [
        {
          "data": {
            "text/plain": [
              "0     False\n",
              "1     False\n",
              "2     False\n",
              "3     False\n",
              "4     False\n",
              "5     False\n",
              "6     False\n",
              "7     False\n",
              "8     False\n",
              "9     False\n",
              "10    False\n",
              "11    False\n",
              "12    False\n",
              "13    False\n",
              "14    False\n",
              "15    False\n",
              "16    False\n",
              "17    False\n",
              "18    False\n",
              "19    False\n",
              "20    False\n",
              "21    False\n",
              "22    False\n",
              "23    False\n",
              "24    False\n",
              "25    False\n",
              "26    False\n",
              "27    False\n",
              "28     True\n",
              "29     True\n",
              "30     True\n",
              "31    False\n",
              "32     True\n",
              "33    False\n",
              "34    False\n",
              "35    False\n",
              "36    False\n",
              "37    False\n",
              "38    False\n",
              "39    False\n",
              "40    False\n",
              "41    False\n",
              "42     True\n",
              "43    False\n",
              "44     True\n",
              "45    False\n",
              "46    False\n",
              "47     True\n",
              "48     True\n",
              "49     True\n",
              "dtype: bool"
            ]
          },
          "execution_count": 130,
          "metadata": {},
          "output_type": "execute_result"
        }
      ],
      "source": [
        "# The children want phones that have good internal memory, battery power and RAM\n",
        "# Consider the phones that have internal memory, battery power and RAM greater than or equal to their respective mean values\n",
        "# Create a logical condition for this situation and store the logical values as \"con5\"\n",
        "internal=data['Int_Mem'].mean()\n",
        "battery=data['Bty_Pwr'].mean()\n",
        "ram=data[\"RAM\"].mean()\n",
        "p=data['Int_Mem']>=internal\n",
        "q=data['Bty_Pwr']>=battery\n",
        "r=data['RAM']>=ram\n",
        "con5=p&q&r\n",
        "con5\n"
      ]
    },
    {
      "cell_type": "markdown",
      "metadata": {
        "id": "u5RzvXKoSHaw"
      },
      "source": [
        "Observations\n",
        "\n",
        "The features \"Int_Mem\", \"Bty_Pwr\" and \"RAM\" are respectively the internal memory, battery power and RAM of the phones.\n",
        "\n",
        "The respective means have been selected as thresholds in this case.\n",
        "\n",
        ".In case it is too strict, we can choose the respective medians as thresholds"
      ]
    },
    {
      "cell_type": "markdown",
      "metadata": {
        "id": "VVeYghyESO9y"
      },
      "source": [
        "# Task 7 - Obtain the logical conditions for the features \"Depth\" and \"Weight\""
      ]
    },
    {
      "cell_type": "code",
      "execution_count": 27,
      "metadata": {
        "id": "07nm7-V1N86j"
      },
      "outputs": [],
      "source": [
        "# Let's tackle these features: \"Depth\", \"Weight\""
      ]
    },
    {
      "cell_type": "code",
      "execution_count": 136,
      "metadata": {
        "id": "e88FFbusN86k"
      },
      "outputs": [
        {
          "data": {
            "image/png": "[encoded data removed]",
            "text/plain": [
              "<Figure size 800x400 with 1 Axes>"
            ]
          },
          "metadata": {},
          "output_type": "display_data"
        },
        {
          "name": "stdout",
          "output_type": "stream",
          "text": [
            "Mean: 3.44\n",
            "Median: 3.0\n",
            "Skew: 2.2955673886478807\n"
          ]
        }
      ],
      "source": [
        "# Create a histogram of the \"Depth\" feature and also show the mean and the median\n",
        "pt.figure(figsize=(8,4))\n",
        "sb.histplot(data=data,x='Depth',color='red',edgecolor='black',bins=6)\n",
        "pt.title(\"Histogram on Depth of the Mobile Phone\")\n",
        "pt.xlabel(\"Depth of the Mobile in Centimeter\")\n",
        "pt.ylabel(\"No.of Mobiles\")\n",
        "pt.vlines(data['Depth'].mean(),ymin=0,ymax=32,color='blue')\n",
        "pt.vlines(data['Depth'].median(),ymin=0,ymax=32,color='black')\n",
        "pt.legend(['Mean','Median'])\n",
        "pt.show()\n",
        "\n",
        "print('Mean:',data['Depth'].mean())\n",
        "print('Median:',data['Depth'].median())\n",
        "print('Skew:',data['Depth'].skew())\n",
        "\n"
      ]
    },
    {
      "cell_type": "code",
      "execution_count": 138,
      "metadata": {
        "id": "-lXTqLttN86l"
      },
      "outputs": [
        {
          "data": {
            "image/png": "[encoded data removed]",
            "text/plain": [
              "<Figure size 800x400 with 1 Axes>"
            ]
          },
          "metadata": {},
          "output_type": "display_data"
        },
        {
          "name": "stdout",
          "output_type": "stream",
          "text": [
            "Mean: 195.2\n",
            "Median: 190.0\n",
            "Skew: 0.5068351428981722\n"
          ]
        }
      ],
      "source": [
        "# Create a histogram of the \"Weight\" feature and also show the mean and the median\n",
        "\n",
        "pt.figure(figsize=(8,4))\n",
        "sb.histplot(data=data,x='Weight',color='violet',edgecolor='black',bins=6)\n",
        "pt.title(\"Histogram on Weight of the Mobile Phone\")\n",
        "pt.xlabel(\"Weight of Mobile in Grams\")\n",
        "pt.ylabel(\"No.of Mobiles\")\n",
        "pt.vlines(data['Weight'].mean(),ymin=0,ymax=32,color='red')\n",
        "pt.vlines(data['Weight'].median(),ymin=0,ymax=32,color='black')\n",
        "pt.legend(['Mean','Median'])\n",
        "pt.show()\n",
        "\n",
        "print('Mean:',data['Weight'].mean())\n",
        "print('Median:',data['Weight'].median())\n",
        "print('Skew:',data['Weight'].skew())\n"
      ]
    },
    {
      "cell_type": "code",
      "execution_count": 147,
      "metadata": {
        "id": "7ZYJmwzJN86l"
      },
      "outputs": [
        {
          "data": {
            "text/plain": [
              "0     False\n",
              "1     False\n",
              "2     False\n",
              "3     False\n",
              "4     False\n",
              "5     False\n",
              "6      True\n",
              "7      True\n",
              "8      True\n",
              "9      True\n",
              "10    False\n",
              "11    False\n",
              "12    False\n",
              "13    False\n",
              "14    False\n",
              "15    False\n",
              "16     True\n",
              "17    False\n",
              "18    False\n",
              "19    False\n",
              "20     True\n",
              "21     True\n",
              "22     True\n",
              "23     True\n",
              "24     True\n",
              "25    False\n",
              "26    False\n",
              "27    False\n",
              "28    False\n",
              "29    False\n",
              "30     True\n",
              "31     True\n",
              "32     True\n",
              "33     True\n",
              "34    False\n",
              "35    False\n",
              "36    False\n",
              "37    False\n",
              "38    False\n",
              "39    False\n",
              "40    False\n",
              "41     True\n",
              "42     True\n",
              "43    False\n",
              "44    False\n",
              "45    False\n",
              "46    False\n",
              "47     True\n",
              "48     True\n",
              "49     True\n",
              "dtype: bool"
            ]
          },
          "execution_count": 147,
          "metadata": {},
          "output_type": "execute_result"
        }
      ],
      "source": [
        "# The children want phones that are light weight and slim\n",
        "# Consider the phones that have depth and weight less than or equal to the respective median values in the data set\n",
        "# Create a logical condition for this situation and store the logical values as \"con6\"\n",
        "\n",
        "depth=data['Depth'].median()\n",
        "weight=data[\"Weight\"].median()\n",
        "i=data['Depth']<=depth\n",
        "j=data['Weight']<=weight\n",
        "con6=i&j\n",
        "con6\n"
      ]
    },
    {
      "cell_type": "markdown",
      "metadata": {
        "id": "l32BIHsdSbHy"
      },
      "source": [
        "Observations:\n",
        "\n",
        "The features \"Depth\" and \"Weight\" are respectively the depth of the phone and the weight of the phone.\n",
        "\n",
        "The respective medians have been selected as thresholds in this case.\n",
        "\n",
        "In case it is too strict, we can choose the respective means as thresholds."
      ]
    },
    {
      "cell_type": "markdown",
      "metadata": {
        "id": "3UYMHQseSjZp"
      },
      "source": [
        "# Task 8 - Subset the data based on all the logical conditions"
      ]
    },
    {
      "cell_type": "code",
      "execution_count": 149,
      "metadata": {
        "id": "iKFweH2xN86o"
      },
      "outputs": [
        {
          "data": {
            "text/html": [
              "<div>\n",
              "<style scoped>\n",
              "    .dataframe tbody tr th:only-of-type {\n",
              "        vertical-align: middle;\n",
              "    }\n",
              "\n",
              "    .dataframe tbody tr th {\n",
              "        vertical-align: top;\n",
              "    }\n",
              "\n",
              "    .dataframe thead th {\n",
              "        text-align: right;\n",
              "    }\n",
              "</style>\n",
              "<table border=\"1\" class=\"dataframe\">\n",
              "  <thead>\n",
              "    <tr style=\"text-align: right;\">\n",
              "      <th></th>\n",
              "      <th>PID</th>\n",
              "      <th>Blue</th>\n",
              "      <th>Wi_Fi</th>\n",
              "      <th>Tch_Scr</th>\n",
              "      <th>Ext_Mem</th>\n",
              "      <th>Px_h</th>\n",
              "      <th>Px_w</th>\n",
              "      <th>Scr_h</th>\n",
              "      <th>Scr_w</th>\n",
              "      <th>PC</th>\n",
              "      <th>FC</th>\n",
              "      <th>Int_Mem</th>\n",
              "      <th>Bty_Pwr</th>\n",
              "      <th>RAM</th>\n",
              "      <th>Depth</th>\n",
              "      <th>Weight</th>\n",
              "      <th>Price</th>\n",
              "      <th>Px</th>\n",
              "      <th>Scr_d</th>\n",
              "    </tr>\n",
              "  </thead>\n",
              "  <tbody>\n",
              "    <tr>\n",
              "      <th>30</th>\n",
              "      <td>TVF078Y</td>\n",
              "      <td>yes</td>\n",
              "      <td>yes</td>\n",
              "      <td>yes</td>\n",
              "      <td>yes</td>\n",
              "      <td>2580</td>\n",
              "      <td>2120</td>\n",
              "      <td>8</td>\n",
              "      <td>6</td>\n",
              "      <td>64</td>\n",
              "      <td>32</td>\n",
              "      <td>512</td>\n",
              "      <td>4860</td>\n",
              "      <td>8</td>\n",
              "      <td>3</td>\n",
              "      <td>90</td>\n",
              "      <td>29999</td>\n",
              "      <td>5469600</td>\n",
              "      <td>10.0</td>\n",
              "    </tr>\n",
              "    <tr>\n",
              "      <th>32</th>\n",
              "      <td>TYS938L</td>\n",
              "      <td>yes</td>\n",
              "      <td>yes</td>\n",
              "      <td>yes</td>\n",
              "      <td>yes</td>\n",
              "      <td>2580</td>\n",
              "      <td>2120</td>\n",
              "      <td>8</td>\n",
              "      <td>6</td>\n",
              "      <td>64</td>\n",
              "      <td>32</td>\n",
              "      <td>1024</td>\n",
              "      <td>4860</td>\n",
              "      <td>8</td>\n",
              "      <td>3</td>\n",
              "      <td>120</td>\n",
              "      <td>46777</td>\n",
              "      <td>5469600</td>\n",
              "      <td>10.0</td>\n",
              "    </tr>\n",
              "    <tr>\n",
              "      <th>42</th>\n",
              "      <td>WZB298K</td>\n",
              "      <td>yes</td>\n",
              "      <td>yes</td>\n",
              "      <td>yes</td>\n",
              "      <td>yes</td>\n",
              "      <td>2580</td>\n",
              "      <td>1980</td>\n",
              "      <td>8</td>\n",
              "      <td>6</td>\n",
              "      <td>64</td>\n",
              "      <td>32</td>\n",
              "      <td>1024</td>\n",
              "      <td>5600</td>\n",
              "      <td>8</td>\n",
              "      <td>3</td>\n",
              "      <td>160</td>\n",
              "      <td>39000</td>\n",
              "      <td>5108400</td>\n",
              "      <td>10.0</td>\n",
              "    </tr>\n",
              "  </tbody>\n",
              "</table>\n",
              "</div>"
            ],
            "text/plain": [
              "        PID Blue Wi_Fi Tch_Scr Ext_Mem  Px_h  Px_w  Scr_h  Scr_w  PC  FC  \\\n",
              "30  TVF078Y  yes   yes     yes     yes  2580  2120      8      6  64  32   \n",
              "32  TYS938L  yes   yes     yes     yes  2580  2120      8      6  64  32   \n",
              "42  WZB298K  yes   yes     yes     yes  2580  1980      8      6  64  32   \n",
              "\n",
              "    Int_Mem  Bty_Pwr  RAM  Depth  Weight  Price       Px  Scr_d  \n",
              "30      512     4860    8      3      90  29999  5469600   10.0  \n",
              "32     1024     4860    8      3     120  46777  5469600   10.0  \n",
              "42     1024     5600    8      3     160  39000  5108400   10.0  "
            ]
          },
          "execution_count": 149,
          "metadata": {},
          "output_type": "execute_result"
        }
      ],
      "source": [
        "# Subset the dataframe using all the logical conditions that have been stored\n",
        "# Store the subset of the dataframe as a new dataframe called \"df1\"\n",
        "\n",
        "df1=data[con1 & con2 & con3 & con4 & con5 & con6]\n",
        "df1\n"
      ]
    },
    {
      "cell_type": "code",
      "execution_count": 150,
      "metadata": {
        "id": "Y0Bp7BKkN86o"
      },
      "outputs": [
        {
          "data": {
            "text/plain": [
              "(3, 19)"
            ]
          },
          "execution_count": 150,
          "metadata": {},
          "output_type": "execute_result"
        }
      ],
      "source": [
        "# Get the dimensions of the dataframe\n",
        "df1.shape\n"
      ]
    },
    {
      "cell_type": "code",
      "execution_count": 151,
      "metadata": {
        "id": "H5tg2OEkN86p"
      },
      "outputs": [
        {
          "data": {
            "text/html": [
              "<div>\n",
              "<style scoped>\n",
              "    .dataframe tbody tr th:only-of-type {\n",
              "        vertical-align: middle;\n",
              "    }\n",
              "\n",
              "    .dataframe tbody tr th {\n",
              "        vertical-align: top;\n",
              "    }\n",
              "\n",
              "    .dataframe thead th {\n",
              "        text-align: right;\n",
              "    }\n",
              "</style>\n",
              "<table border=\"1\" class=\"dataframe\">\n",
              "  <thead>\n",
              "    <tr style=\"text-align: right;\">\n",
              "      <th></th>\n",
              "      <th>PID</th>\n",
              "      <th>Blue</th>\n",
              "      <th>Wi_Fi</th>\n",
              "      <th>Tch_Scr</th>\n",
              "      <th>Ext_Mem</th>\n",
              "      <th>Px_h</th>\n",
              "      <th>Px_w</th>\n",
              "      <th>Scr_h</th>\n",
              "      <th>Scr_w</th>\n",
              "      <th>PC</th>\n",
              "      <th>FC</th>\n",
              "      <th>Int_Mem</th>\n",
              "      <th>Bty_Pwr</th>\n",
              "      <th>RAM</th>\n",
              "      <th>Depth</th>\n",
              "      <th>Weight</th>\n",
              "      <th>Price</th>\n",
              "      <th>Px</th>\n",
              "      <th>Scr_d</th>\n",
              "    </tr>\n",
              "  </thead>\n",
              "  <tbody>\n",
              "    <tr>\n",
              "      <th>30</th>\n",
              "      <td>TVF078Y</td>\n",
              "      <td>yes</td>\n",
              "      <td>yes</td>\n",
              "      <td>yes</td>\n",
              "      <td>yes</td>\n",
              "      <td>2580</td>\n",
              "      <td>2120</td>\n",
              "      <td>8</td>\n",
              "      <td>6</td>\n",
              "      <td>64</td>\n",
              "      <td>32</td>\n",
              "      <td>512</td>\n",
              "      <td>4860</td>\n",
              "      <td>8</td>\n",
              "      <td>3</td>\n",
              "      <td>90</td>\n",
              "      <td>29999</td>\n",
              "      <td>5469600</td>\n",
              "      <td>10.0</td>\n",
              "    </tr>\n",
              "    <tr>\n",
              "      <th>42</th>\n",
              "      <td>WZB298K</td>\n",
              "      <td>yes</td>\n",
              "      <td>yes</td>\n",
              "      <td>yes</td>\n",
              "      <td>yes</td>\n",
              "      <td>2580</td>\n",
              "      <td>1980</td>\n",
              "      <td>8</td>\n",
              "      <td>6</td>\n",
              "      <td>64</td>\n",
              "      <td>32</td>\n",
              "      <td>1024</td>\n",
              "      <td>5600</td>\n",
              "      <td>8</td>\n",
              "      <td>3</td>\n",
              "      <td>160</td>\n",
              "      <td>39000</td>\n",
              "      <td>5108400</td>\n",
              "      <td>10.0</td>\n",
              "    </tr>\n",
              "    <tr>\n",
              "      <th>32</th>\n",
              "      <td>TYS938L</td>\n",
              "      <td>yes</td>\n",
              "      <td>yes</td>\n",
              "      <td>yes</td>\n",
              "      <td>yes</td>\n",
              "      <td>2580</td>\n",
              "      <td>2120</td>\n",
              "      <td>8</td>\n",
              "      <td>6</td>\n",
              "      <td>64</td>\n",
              "      <td>32</td>\n",
              "      <td>1024</td>\n",
              "      <td>4860</td>\n",
              "      <td>8</td>\n",
              "      <td>3</td>\n",
              "      <td>120</td>\n",
              "      <td>46777</td>\n",
              "      <td>5469600</td>\n",
              "      <td>10.0</td>\n",
              "    </tr>\n",
              "  </tbody>\n",
              "</table>\n",
              "</div>"
            ],
            "text/plain": [
              "        PID Blue Wi_Fi Tch_Scr Ext_Mem  Px_h  Px_w  Scr_h  Scr_w  PC  FC  \\\n",
              "30  TVF078Y  yes   yes     yes     yes  2580  2120      8      6  64  32   \n",
              "42  WZB298K  yes   yes     yes     yes  2580  1980      8      6  64  32   \n",
              "32  TYS938L  yes   yes     yes     yes  2580  2120      8      6  64  32   \n",
              "\n",
              "    Int_Mem  Bty_Pwr  RAM  Depth  Weight  Price       Px  Scr_d  \n",
              "30      512     4860    8      3      90  29999  5469600   10.0  \n",
              "42     1024     5600    8      3     160  39000  5108400   10.0  \n",
              "32     1024     4860    8      3     120  46777  5469600   10.0  "
            ]
          },
          "execution_count": 151,
          "metadata": {},
          "output_type": "execute_result"
        }
      ],
      "source": [
        "# Sort the dataframe according to the \"Price\" feature in ascending order and display it\n",
        "df1.sort_values(['Price'])\n"
      ]
    },
    {
      "cell_type": "markdown",
      "metadata": {
        "id": "Zn6iT-HQSocg"
      },
      "source": [
        "Observations:\n",
        "\n",
        "Based on all the logical conditions obtained through analysis of the features, we are left with three phones.\n",
        "\n",
        "The most expensive of these phones is the \"TYS938L\" model and the least expensive is the \"TVF078Y\" model.\n",
        "\n",
        "We could let the children choose from these three phones as per their preferences."
      ]
    },
    {
      "cell_type": "markdown",
      "metadata": {
        "id": "O09ZVXlbSvhj"
      },
      "source": [
        "# Task 9 - Study the variability of the features in the original data set"
      ]
    },
    {
      "cell_type": "code",
      "execution_count": 153,
      "metadata": {
        "id": "grfzKBDyN86r"
      },
      "outputs": [
        {
          "data": {
            "text/plain": [
              "Px_h       0.000000\n",
              "Px_w       0.038985\n",
              "Scr_h      0.000000\n",
              "Scr_w      0.000000\n",
              "PC         0.000000\n",
              "FC         0.000000\n",
              "Int_Mem    0.346410\n",
              "Bty_Pwr    0.083663\n",
              "RAM        0.000000\n",
              "Depth      0.000000\n",
              "Weight     0.284747\n",
              "Price      0.217569\n",
              "Px         0.038985\n",
              "Scr_d      0.000000\n",
              "dtype: float64"
            ]
          },
          "execution_count": 153,
          "metadata": {},
          "output_type": "execute_result"
        }
      ],
      "source": [
        "# Calculate the ratio of the standard deviation to the mean for all the numerical features in the dataframe\n",
        "# Store these values in a new series wherein the rows are the features and the only column is the calculated ratio\n",
        "# Name the series as \"deviations\"\n",
        "\n",
        "deviations=df1.select_dtypes(include='number').std()/df1.select_dtypes(include='number').mean()\n",
        "deviations\n"
      ]
    },
    {
      "cell_type": "code",
      "execution_count": 154,
      "metadata": {
        "id": "sBRqrnVaN86s"
      },
      "outputs": [
        {
          "data": {
            "text/plain": [
              "Int_Mem    0.346410\n",
              "Weight     0.284747\n",
              "Price      0.217569\n",
              "Bty_Pwr    0.083663\n",
              "Px_w       0.038985\n",
              "Px         0.038985\n",
              "Px_h       0.000000\n",
              "Scr_h      0.000000\n",
              "Scr_w      0.000000\n",
              "PC         0.000000\n",
              "FC         0.000000\n",
              "RAM        0.000000\n",
              "Depth      0.000000\n",
              "Scr_d      0.000000\n",
              "dtype: float64"
            ]
          },
          "execution_count": 154,
          "metadata": {},
          "output_type": "execute_result"
        }
      ],
      "source": [
        "# View the \"deviations\" series after sorting it in descending order\n",
        "deviations.sort_values(ascending=False)\n"
      ]
    },
    {
      "cell_type": "markdown",
      "metadata": {
        "id": "RSypqWHuSzJU"
      },
      "source": [
        "Observations:\n",
        "\n",
        "The ratio of the standard deviation to the mean of a feature normalises it in a way.\n",
        "\n",
        "This allows for comparison between multiple features.\n",
        "\n",
        "The most variable feature in the original data set is the internal memory of the phones.\n",
        "\n",
        "The least variable feature in the original data set is the number of screen pixels in the horizontal axis.\n",
        "\n",
        "Although most features don't seem so variable, the prices of the phones are quite variable.\n",
        "\n",
        "Feel free to investigate what could be the cause of this difference in variability.\n",
        "\n",
        "Note: We encourage you to extend this analysis further and see what else you can find.\n",
        "\n",
        "Note: Please refer to the official website of Python and its libraries for various Python documentations."
      ]
    },
    {
      "cell_type": "markdown",
      "metadata": {
        "id": "kE4_U-R9TI_d"
      },
      "source": [
        "# Conclusion\n",
        "1. We have used concepts of descriptive statistics to study and work with a data set that contains mobile phone specifications.\n",
        "\n",
        "2. We were able to recommend three phone models to the client which she can then propose to her children."
      ]
    },
    {
      "cell_type": "code",
      "execution_count": null,
      "metadata": {
        "id": "8TQnykmJhK6w"
      },
      "outputs": [],
      "source": []
    }
  ],
  "metadata": {
    "colab": {
      "provenance": []
    },
    "kernelspec": {
      "display_name": "Python 3",
      "language": "python",
      "name": "python3"
    },
    "language_info": {
      "codemirror_mode": {
        "name": "ipython",
        "version": 3
      },
      "file_extension": ".py",
      "mimetype": "text/x-python",
      "name": "python",
      "nbconvert_exporter": "python",
      "pygments_lexer": "ipython3",
      "version": "3.11.4"
    }
  },
  "nbformat": 4,
  "nbformat_minor": 0
}
